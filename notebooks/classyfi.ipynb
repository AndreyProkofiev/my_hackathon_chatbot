{
 "cells": [
  {
   "cell_type": "code",
   "execution_count": 30,
   "metadata": {},
   "outputs": [],
   "source": [
    "import os\n",
    "import sys\n",
    "from langchain_chroma import Chroma\n",
    "from yandex_chain import YandexEmbeddings\n",
    "import langchain.chains\n",
    "import langchain.prompts\n",
    "from langchain_core.output_parsers import StrOutputParser\n",
    "from langchain_core.runnables import RunnablePassthrough\n",
    "\n",
    "from yandex_chain import YandexGPTClassifier\n",
    "from dotenv import load_dotenv"
   ]
  },
  {
   "cell_type": "code",
   "execution_count": 9,
   "metadata": {},
   "outputs": [
    {
     "data": {
      "text/plain": [
       "True"
      ]
     },
     "execution_count": 9,
     "metadata": {},
     "output_type": "execute_result"
    }
   ],
   "source": [
    "load_dotenv('ya.env')"
   ]
  },
  {
   "cell_type": "code",
   "execution_count": 14,
   "metadata": {},
   "outputs": [],
   "source": [
    "proj_p = os.environ['proj_path']\n",
    "module_p = os.environ['module_p']\n",
    "docs_path = os.environ['docs_path']"
   ]
  },
  {
   "cell_type": "code",
   "execution_count": 15,
   "metadata": {},
   "outputs": [],
   "source": [
    "sys.path.append(module_p)"
   ]
  },
  {
   "cell_type": "code",
   "execution_count": 16,
   "metadata": {},
   "outputs": [],
   "source": [
    "auth = {\n",
    "    \"folder_id\" : os.environ['folder_id'].strip(), \n",
    "    \"api_key\" : os.environ['api_key'].strip()\n",
    "}"
   ]
  },
  {
   "cell_type": "code",
   "execution_count": 17,
   "metadata": {},
   "outputs": [],
   "source": [
    "class Agent:\n",
    "    \n",
    "    def __call__(self, state):\n",
    "        # do something\n",
    "        return \"new_namestate\""
   ]
  },
  {
   "cell_type": "code",
   "execution_count": 18,
   "metadata": {},
   "outputs": [],
   "source": [
    "class Classfier(Agent):\n",
    "    def __init__(self, task_description, labels, samples=None):\n",
    "        self.classifier = YandexGPTClassifier(task_description, labels, samples, **auth)\n",
    "\n",
    "    def __call__(self, state):\n",
    "        res = self.classifier.invoke(state['input'])\n",
    "        c = self.classifier.get_top_label(res)\n",
    "        return c"
   ]
  },
  {
   "cell_type": "code",
   "execution_count": 26,
   "metadata": {},
   "outputs": [],
   "source": [
    "InputClassifier = Classfier(\n",
    "    \"\"\"Определи, содержится ли в вопросе одна из следующих задач:\n",
    "* Прошу восстановить пароль в компьютер (Вайс) сотрудника Sandreev\n",
    "* При вводе пароля появляется сообщение об ошибке\n",
    "* Возможно временный пароль жил 3 дня, а перед праздниками заболел и не\n",
    "* зашел, а теперь надо пароль заново задать?При вводе пароля появляется сообщение об ошибке\n",
    "* Прошу разблокировать учетную запись сотрудника\n",
    "* Не могу войти на удаленку, видимо надо было пароль поменять, не успела . Проверьте пожалуйста \n",
    "* не могу войти в компьютер \n",
    "* Включить удаленный комп. Имя ПК \n",
    "* Не получается подключиться к удаленному рабочему столу\n",
    "* Недоступна машина ws-sybase02. Находится в одной из серверных.\n",
    "* Прошу включить/перезагрузить машину WS-CZC108B6CR\"\n",
    "* Добрый вечер. Очень виснет удаленный рабочий стол, тормозит, помогите,пожалуйста.\n",
    "* Как получить доступ в DataLense?\n",
    "* Как сменить цветовую палитру в графике DL?\n",
    "* Как добавить подпись на графике?\n",
    "* Как создать чарт?\n",
    "* Как добавить фильтр в дэшборде, связанный с чартами?\n",
    "* Как предоставить доступ к моему отчету в DL другому пользователю?\n",
    "* Как подключится к рабочему месту удаленно через Cisсo?\n",
    "* Как подключится к рабочему месту удаленно через Cisko?\n",
    "* как зайти в Citrix?\n",
    "* Как подключится к рабочему месту удаленно через Citrix ?\"\"\",\n",
    "    [\"пароль\", \"пароль\", \"пароль\", \"пароль\", \"пароль\",\"пароль\",\\\n",
    "    \"перезагрузка\", \"перезагрузка\", \"перезагрузка\", \"перезагрузка\", \"перезагрузка\", \"перезагрузка\",\\\n",
    "    \"консультация\", \"консультация\", \"консультация\",\"консультация\",\"консультация\",\"консультация\",\\\n",
    "        \"консультация\", \"консультация\",\"консультация\",\"консультация\"\n",
    "        ]\n",
    ")"
   ]
  },
  {
   "cell_type": "code",
   "execution_count": 28,
   "metadata": {},
   "outputs": [],
   "source": [
    "InputClassifier = Classfier(\n",
    "    \"\"\"Определи, содержится ли в вопросе одна из следующих задач:\n",
    "* Прошу восстановить пароль в компьютер (Вайс) сотрудника Sandreev\n",
    "* При вводе пароля появляется сообщение об ошибке\n",
    "* Возможно временный пароль жил 3 дня, а перед праздниками заболел и не\n",
    "* зашел, а теперь надо пароль заново задать?При вводе пароля появляется сообщение об ошибке\n",
    "* Прошу разблокировать учетную запись сотрудника\n",
    "* Не могу войти на удаленку, видимо надо было пароль поменять, не успела . Проверьте пожалуйста \n",
    "* не могу войти в компьютер \n",
    "* Включить удаленный комп. Имя ПК \n",
    "* Не получается подключиться к удаленному рабочему столу\n",
    "* Недоступна машина ws-sybase02. Находится в одной из серверных.\n",
    "* Прошу включить/перезагрузить машину WS-CZC108B6CR\"\n",
    "* Добрый вечер. Очень виснет удаленный рабочий стол, тормозит, помогите,пожалуйста.\n",
    "* Как получить доступ в DataLense?\n",
    "* Как сменить цветовую палитру в графике DL?\n",
    "* Как добавить подпись на графике?\n",
    "* Как создать чарт?\n",
    "* Как добавить фильтр в дэшборде, связанный с чартами?\n",
    "* Как предоставить доступ к моему отчету в DL другому пользователю?\n",
    "* Как подключится к рабочему месту удаленно через Cisсo?\n",
    "* Как подключится к рабочему месту удаленно через Cisko?\"\"\",\n",
    "    [\"пароль\", \"пароль\", \"пароль\", \"пароль\", \"пароль\",\"пароль\",\\\n",
    "    \"перезагрузка\", \"перезагрузка\", \"перезагрузка\", \"перезагрузка\", \"перезагрузка\", \"перезагрузка\",\\\n",
    "    \"консультация\", \"консультация\", \"консультация\",\"консультация\",\"консультация\",\"консультация\",\\\n",
    "        \"консультация\", \"консультация\"\n",
    "        ]\n",
    ")"
   ]
  },
  {
   "cell_type": "code",
   "execution_count": 32,
   "metadata": {},
   "outputs": [
    {
     "ename": "YException",
     "evalue": "Error calling classifier after 3 retries. Result returned:\n{'error': 'Error in session internal_id=259082e1-3c496236-966f6d13-461bd0c0&request_id=802a8e21-9827-4eb0-8e4d-abfeea693b80&client_request_id=undefined&folder_id=b1gankvijscjkpkaj4b0: request contains non-unique labels', 'code': 3, 'message': 'Error in session internal_id=259082e1-3c496236-966f6d13-461bd0c0&request_id=802a8e21-9827-4eb0-8e4d-abfeea693b80&client_request_id=undefined&folder_id=b1gankvijscjkpkaj4b0: request contains non-unique labels', 'details': []}",
     "output_type": "error",
     "traceback": [
      "\u001b[0;31m---------------------------------------------------------------------------\u001b[0m",
      "\u001b[0;31mYException\u001b[0m                                Traceback (most recent call last)",
      "File \u001b[0;32m~/Library/Python/3.9/lib/python/site-packages/yandex_chain/YandexGPTClassifier.py:40\u001b[0m, in \u001b[0;36mYandexGPTClassifier.invoke\u001b[0;34m(self, text)\u001b[0m\n\u001b[1;32m     39\u001b[0m                 \u001b[38;5;28;01mreturn\u001b[39;00m js[\u001b[38;5;124m'\u001b[39m\u001b[38;5;124mpredictions\u001b[39m\u001b[38;5;124m'\u001b[39m]\n\u001b[0;32m---> 40\u001b[0m             \u001b[38;5;28;01mraise\u001b[39;00m YException(\u001b[38;5;124mf\u001b[39m\u001b[38;5;124m\"\u001b[39m\u001b[38;5;124mNo embedding found, result returned: \u001b[39m\u001b[38;5;132;01m{\u001b[39;00mjs\u001b[38;5;132;01m}\u001b[39;00m\u001b[38;5;124m\"\u001b[39m)\n\u001b[1;32m     41\u001b[0m \u001b[38;5;28;01mexcept\u001b[39;00m RetryError:\n",
      "\u001b[0;31mYException\u001b[0m: No embedding found, result returned: {'error': 'Error in session internal_id=259082e1-3c496236-966f6d13-461bd0c0&request_id=802a8e21-9827-4eb0-8e4d-abfeea693b80&client_request_id=undefined&folder_id=b1gankvijscjkpkaj4b0: request contains non-unique labels', 'code': 3, 'message': 'Error in session internal_id=259082e1-3c496236-966f6d13-461bd0c0&request_id=802a8e21-9827-4eb0-8e4d-abfeea693b80&client_request_id=undefined&folder_id=b1gankvijscjkpkaj4b0: request contains non-unique labels', 'details': []}",
      "\nThe above exception was the direct cause of the following exception:\n",
      "\u001b[0;31mRetryError\u001b[0m                                Traceback (most recent call last)",
      "File \u001b[0;32m~/Library/Python/3.9/lib/python/site-packages/yandex_chain/YandexGPTClassifier.py:33\u001b[0m, in \u001b[0;36mYandexGPTClassifier.invoke\u001b[0;34m(self, text)\u001b[0m\n\u001b[1;32m     32\u001b[0m \u001b[38;5;28;01mtry\u001b[39;00m:\n\u001b[0;32m---> 33\u001b[0m     \u001b[38;5;28;01mfor\u001b[39;00m attempt \u001b[38;5;129;01min\u001b[39;00m Retrying(stop\u001b[38;5;241m=\u001b[39mstop_after_attempt(\u001b[38;5;28mself\u001b[39m\u001b[38;5;241m.\u001b[39mretries),wait\u001b[38;5;241m=\u001b[39mwait_fixed(\u001b[38;5;28mself\u001b[39m\u001b[38;5;241m.\u001b[39msleep_interval)):\n\u001b[1;32m     34\u001b[0m         \u001b[38;5;28;01mwith\u001b[39;00m attempt:\n",
      "File \u001b[0;32m~/Library/Python/3.9/lib/python/site-packages/tenacity/__init__.py:443\u001b[0m, in \u001b[0;36mBaseRetrying.__iter__\u001b[0;34m(self)\u001b[0m\n\u001b[1;32m    442\u001b[0m \u001b[38;5;28;01mwhile\u001b[39;00m \u001b[38;5;28;01mTrue\u001b[39;00m:\n\u001b[0;32m--> 443\u001b[0m     do \u001b[38;5;241m=\u001b[39m \u001b[38;5;28;43mself\u001b[39;49m\u001b[38;5;241;43m.\u001b[39;49m\u001b[43miter\u001b[49m\u001b[43m(\u001b[49m\u001b[43mretry_state\u001b[49m\u001b[38;5;241;43m=\u001b[39;49m\u001b[43mretry_state\u001b[49m\u001b[43m)\u001b[49m\n\u001b[1;32m    444\u001b[0m     \u001b[38;5;28;01mif\u001b[39;00m \u001b[38;5;28misinstance\u001b[39m(do, DoAttempt):\n",
      "File \u001b[0;32m~/Library/Python/3.9/lib/python/site-packages/tenacity/__init__.py:376\u001b[0m, in \u001b[0;36mBaseRetrying.iter\u001b[0;34m(self, retry_state)\u001b[0m\n\u001b[1;32m    375\u001b[0m \u001b[38;5;28;01mfor\u001b[39;00m action \u001b[38;5;129;01min\u001b[39;00m \u001b[38;5;28mself\u001b[39m\u001b[38;5;241m.\u001b[39miter_state\u001b[38;5;241m.\u001b[39mactions:\n\u001b[0;32m--> 376\u001b[0m     result \u001b[38;5;241m=\u001b[39m \u001b[43maction\u001b[49m\u001b[43m(\u001b[49m\u001b[43mretry_state\u001b[49m\u001b[43m)\u001b[49m\n\u001b[1;32m    377\u001b[0m \u001b[38;5;28;01mreturn\u001b[39;00m result\n",
      "File \u001b[0;32m~/Library/Python/3.9/lib/python/site-packages/tenacity/__init__.py:419\u001b[0m, in \u001b[0;36mBaseRetrying._post_stop_check_actions.<locals>.exc_check\u001b[0;34m(rs)\u001b[0m\n\u001b[1;32m    418\u001b[0m     \u001b[38;5;28;01mraise\u001b[39;00m retry_exc\u001b[38;5;241m.\u001b[39mreraise()\n\u001b[0;32m--> 419\u001b[0m \u001b[38;5;28;01mraise\u001b[39;00m retry_exc \u001b[38;5;28;01mfrom\u001b[39;00m \u001b[38;5;21;01mfut\u001b[39;00m\u001b[38;5;21;01m.\u001b[39;00m\u001b[38;5;21;01mexception\u001b[39;00m()\n",
      "\u001b[0;31mRetryError\u001b[0m: RetryError[<Future at 0x10f887370 state=finished raised YException>]",
      "\nDuring handling of the above exception, another exception occurred:\n",
      "\u001b[0;31mYException\u001b[0m                                Traceback (most recent call last)",
      "Cell \u001b[0;32mIn[32], line 1\u001b[0m\n\u001b[0;32m----> 1\u001b[0m \u001b[43mInputClassifier\u001b[49m\u001b[43m(\u001b[49m\u001b[43m{\u001b[49m\u001b[38;5;124;43m'\u001b[39;49m\u001b[38;5;124;43minput\u001b[39;49m\u001b[38;5;124;43m'\u001b[39;49m\u001b[43m:\u001b[49m\u001b[38;5;124;43m'\u001b[39;49m\u001b[38;5;124;43mу меня завис комп\u001b[39;49m\u001b[38;5;124;43m'\u001b[39;49m\u001b[43m}\u001b[49m\u001b[43m)\u001b[49m\n",
      "Cell \u001b[0;32mIn[18], line 6\u001b[0m, in \u001b[0;36mClassfier.__call__\u001b[0;34m(self, state)\u001b[0m\n\u001b[1;32m      5\u001b[0m \u001b[38;5;28;01mdef\u001b[39;00m \u001b[38;5;21m__call__\u001b[39m(\u001b[38;5;28mself\u001b[39m, state):\n\u001b[0;32m----> 6\u001b[0m     res \u001b[38;5;241m=\u001b[39m \u001b[38;5;28;43mself\u001b[39;49m\u001b[38;5;241;43m.\u001b[39;49m\u001b[43mclassifier\u001b[49m\u001b[38;5;241;43m.\u001b[39;49m\u001b[43minvoke\u001b[49m\u001b[43m(\u001b[49m\u001b[43mstate\u001b[49m\u001b[43m[\u001b[49m\u001b[38;5;124;43m'\u001b[39;49m\u001b[38;5;124;43minput\u001b[39;49m\u001b[38;5;124;43m'\u001b[39;49m\u001b[43m]\u001b[49m\u001b[43m)\u001b[49m\n\u001b[1;32m      7\u001b[0m     c \u001b[38;5;241m=\u001b[39m \u001b[38;5;28mself\u001b[39m\u001b[38;5;241m.\u001b[39mclassifier\u001b[38;5;241m.\u001b[39mget_top_label(res)\n\u001b[1;32m      8\u001b[0m     \u001b[38;5;28;01mreturn\u001b[39;00m c\n",
      "File \u001b[0;32m~/Library/Python/3.9/lib/python/site-packages/yandex_chain/YandexGPTClassifier.py:42\u001b[0m, in \u001b[0;36mYandexGPTClassifier.invoke\u001b[0;34m(self, text)\u001b[0m\n\u001b[1;32m     40\u001b[0m             \u001b[38;5;28;01mraise\u001b[39;00m YException(\u001b[38;5;124mf\u001b[39m\u001b[38;5;124m\"\u001b[39m\u001b[38;5;124mNo embedding found, result returned: \u001b[39m\u001b[38;5;132;01m{\u001b[39;00mjs\u001b[38;5;132;01m}\u001b[39;00m\u001b[38;5;124m\"\u001b[39m)\n\u001b[1;32m     41\u001b[0m \u001b[38;5;28;01mexcept\u001b[39;00m RetryError:\n\u001b[0;32m---> 42\u001b[0m     \u001b[38;5;28;01mraise\u001b[39;00m YException(\u001b[38;5;124mf\u001b[39m\u001b[38;5;124m\"\u001b[39m\u001b[38;5;124mError calling classifier after \u001b[39m\u001b[38;5;132;01m{\u001b[39;00m\u001b[38;5;28mself\u001b[39m\u001b[38;5;241m.\u001b[39mretries\u001b[38;5;132;01m}\u001b[39;00m\u001b[38;5;124m retries. Result returned:\u001b[39m\u001b[38;5;130;01m\\n\u001b[39;00m\u001b[38;5;132;01m{\u001b[39;00mjs\u001b[38;5;132;01m}\u001b[39;00m\u001b[38;5;124m\"\u001b[39m)\n",
      "\u001b[0;31mYException\u001b[0m: Error calling classifier after 3 retries. Result returned:\n{'error': 'Error in session internal_id=259082e1-3c496236-966f6d13-461bd0c0&request_id=802a8e21-9827-4eb0-8e4d-abfeea693b80&client_request_id=undefined&folder_id=b1gankvijscjkpkaj4b0: request contains non-unique labels', 'code': 3, 'message': 'Error in session internal_id=259082e1-3c496236-966f6d13-461bd0c0&request_id=802a8e21-9827-4eb0-8e4d-abfeea693b80&client_request_id=undefined&folder_id=b1gankvijscjkpkaj4b0: request contains non-unique labels', 'details': []}"
     ]
    }
   ],
   "source": [
    "InputClassifier({'input':'у меня завис комп'})"
   ]
  }
 ],
 "metadata": {
  "kernelspec": {
   "display_name": "Python 3",
   "language": "python",
   "name": "python3"
  },
  "language_info": {
   "codemirror_mode": {
    "name": "ipython",
    "version": 3
   },
   "file_extension": ".py",
   "mimetype": "text/x-python",
   "name": "python",
   "nbconvert_exporter": "python",
   "pygments_lexer": "ipython3",
   "version": "3.9.6"
  }
 },
 "nbformat": 4,
 "nbformat_minor": 2
}
